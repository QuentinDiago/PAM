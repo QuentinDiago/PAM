{
 "cells": [
  {
   "cell_type": "code",
   "execution_count": 2,
   "metadata": {},
   "outputs": [],
   "source": [
    "import PAM_Diago as PAM\n",
    "import os"
   ]
  },
  {
   "cell_type": "code",
   "execution_count": 5,
   "metadata": {},
   "outputs": [
    {
     "name": "stdout",
     "output_type": "stream",
     "text": [
      "['../tests\\\\Cas 5.m4a', '../tests\\\\joie.wav', '../tests\\\\La440.wav', '../tests\\\\mechant.wav', '../tests\\\\serieux.wav', '../tests\\\\test.mp3']\n"
     ]
    }
   ],
   "source": [
    "files = [os.path.join('../tests', file) for file in os.listdir('../tests')]\n",
    "print(files)\n"
   ]
  },
  {
   "cell_type": "code",
   "execution_count": 7,
   "metadata": {},
   "outputs": [
    {
     "name": "stdout",
     "output_type": "stream",
     "text": [
      ".m4a\n",
      ".wav\n",
      ".wav\n",
      ".wav\n",
      ".wav\n",
      ".mp3\n"
     ]
    },
    {
     "name": "stderr",
     "output_type": "stream",
     "text": [
      "100%|██████████| 1/1 [00:05<00:00,  5.56s/it]\n"
     ]
    },
    {
     "data": {
      "text/plain": [
       "[{'file': '../tests\\\\Cas 5.m4a', 'pam_score': 0.9870033264160156},\n",
       " {'file': '../tests\\\\joie..wav', 'pam_score': 0.8969871203104655},\n",
       " {'file': '../tests\\\\La440..wav', 'pam_score': 0.6009992190769741},\n",
       " {'file': '../tests\\\\mechant..wav', 'pam_score': 0.9363570213317871},\n",
       " {'file': '../tests\\\\serieux..wav', 'pam_score': 0.934355099995931},\n",
       " {'file': '../tests\\\\test.mp3', 'pam_score': 0.914261954171317}]"
      ]
     },
     "execution_count": 7,
     "metadata": {},
     "output_type": "execute_result"
    }
   ],
   "source": [
    "PAM.evaluateFolder(folder='../tests',save_result=True)\n"
   ]
  },
  {
   "cell_type": "code",
   "execution_count": null,
   "metadata": {},
   "outputs": [],
   "source": []
  }
 ],
 "metadata": {
  "kernelspec": {
   "display_name": "PAM",
   "language": "python",
   "name": "python3"
  },
  "language_info": {
   "codemirror_mode": {
    "name": "ipython",
    "version": 3
   },
   "file_extension": ".py",
   "mimetype": "text/x-python",
   "name": "python",
   "nbconvert_exporter": "python",
   "pygments_lexer": "ipython3",
   "version": "3.10.0"
  }
 },
 "nbformat": 4,
 "nbformat_minor": 2
}
